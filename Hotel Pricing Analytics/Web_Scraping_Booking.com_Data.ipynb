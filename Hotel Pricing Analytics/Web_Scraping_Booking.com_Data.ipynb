{
 "cells": [
  {
   "cell_type": "code",
   "execution_count": 4,
   "id": "0436f226-f407-44f0-87bc-fff818c526fb",
   "metadata": {},
   "outputs": [],
   "source": [
    "from bs4 import BeautifulSoup\n",
    "from selenium import webdriver\n",
    "from selenium.webdriver.common.by import By\n",
    "from selenium.webdriver.support.ui import WebDriverWait\n",
    "from selenium.webdriver.support import expected_conditions as EC\n",
    "import time\n",
    "import pandas as pd\n",
    "\n",
    "url = 'https://www.booking.com/searchresults.html?ss=India&ssne=India&ssne_untouched=India&efdco=1&label=gen173rf-1FCAEiBWhvdGVsKIICOOgHSDNYA2hsiAEBmAExuAEXyAEM2AEB6AEB-AECiAIBogIQc2VhcmNoLmJyYXZlLmNvbagCA7gCgrKdsgbAAgHSAiRhMjBjNzY2NS0xNDJiLTQ0OTAtOTExOS1iZjM1YTZjMjQxNjjYAgXgAgE&sid=ba5493355b758883a61f8556fe47c06a&aid=304142&lang=en-us&sb=1&src_elem=sb&src=searchresults&dest_id=98&dest_type=country&checkin=2024-05-22&checkout=2024-05-23&group_adults=1&no_rooms=1&group_children=0'\n",
    "\n",
    "HEADERS = {'User-Agent': 'Mozilla/5.0 (Windows NT 10.0; Win64; x64) AppleWebKit/537.36 (KHTML, like Gecko) Chrome/124.0.0.0 Safari/537.36', 'Accept-Language': 'en-US, en;q=0.5'}\n",
    "\n",
    "# Use Selenium to simulate clicking the \"Load more results\" button\n",
    "driver = webdriver.Chrome()  # Make sure ChromeDriver is in your PATH\n",
    "driver.get(url)\n",
    "\n",
    "# Implement an explicit wait to handle dynamic content\n",
    "wait = WebDriverWait(driver, 10)\n",
    "\n",
    "# Click the \"Load more results\" button until it is no longer available\n",
    "load_more_button_selector = '#bodyconstraint-inner > div:nth-child(8) > div > div.af5895d4b2 > div.df7e6ba27d > div.bcbf33c5c3 > div.dcf496a7b9.bb2746aad9 > div.d4924c9e74 > div.c82435a4b8.f581fde0b8 > button'\n",
    "\n",
    "while True:\n",
    "    try:\n",
    "        load_more_button = wait.until(EC.element_to_be_clickable((By.CSS_SELECTOR, load_more_button_selector)))\n",
    "        load_more_button.click()\n",
    "        time.sleep(2)  # Wait for new hotels to load\n",
    "    except:\n",
    "        break\n",
    "\n",
    "# Get the HTML content after all hotels are loaded\n",
    "webpage = driver.page_source\n",
    "driver.quit()\n",
    "\n",
    "soup = BeautifulSoup(webpage, 'html.parser')\n",
    "section = soup.find('div', class_='d4924c9e74')\n",
    "hotels = section.find_all('div', attrs={'data-testid': 'property-card'})\n",
    "hotel_data = []  # List to store hotel data as dictionaries\n",
    "\n",
    "for hotel in hotels:\n",
    "    topic = {}  # Initialize an empty dictionary for each hotel\n",
    "    topic['name'] = hotel.img['alt'] if hotel.img else None\n",
    "    topic['Location'] = hotel.find('span', {'data-testid': 'address'}).text if hotel.find('span', {'data-testid': 'address'}) else None\n",
    "    topic['Room_Type'] = hotel.find('h4', class_='abf093bdfe e8f7c070a7').text.strip() if hotel.find('h4', class_='abf093bdfe e8f7c070a7') else None\n",
    "    topic['Bed'] = hotel.find('div', class_='fc367255e6').text.strip() if hotel.find('div', class_='fc367255e6') else None\n",
    "    topic['Price'] = hotel.find('span', attrs={'data-testid': 'price-and-discounted-price'}).text if hotel.find('span', attrs={'data-testid': 'price-and-discounted-price'}) else None\n",
    "    topic['tax'] = hotel.find('div', attrs={'data-testid': 'taxes-and-charges'}).text if hotel.find('div', attrs={'data-testid': 'taxes-and-charges'}) else None\n",
    "    topic['Reviews'] = hotel.find('div', class_='a3b8729ab1 d86cee9b25').find('div', class_='ac4a7896c7').get_text(strip=True) if hotel.find('div', class_='a3b8729ab1 d86cee9b25') else None\n",
    "    topic['link'] = 'https://www.booking.com' + hotel.a['href'] if hotel.a else None\n",
    "    hotel_data.append(topic)\n"
   ]
  },
  {
   "cell_type": "code",
   "execution_count": 27,
   "id": "961fb88a-4cf6-4083-96f8-59d84d1c4d60",
   "metadata": {},
   "outputs": [],
   "source": [
    "df_csv = pd.DataFrame(hotel_data)\n",
    "df_csv.to_csv('hotels1.csv', index=False)\n",
    "\n",
    "# Save as Excel\n",
    "df_excel = pd.DataFrame(hotel_data)\n",
    "df_excel.to_excel('hotels1.xlsx', index=False)"
   ]
  }
 ],
 "metadata": {
  "kernelspec": {
   "display_name": "Python 3 (ipykernel)",
   "language": "python",
   "name": "python3"
  },
  "language_info": {
   "codemirror_mode": {
    "name": "ipython",
    "version": 3
   },
   "file_extension": ".py",
   "mimetype": "text/x-python",
   "name": "python",
   "nbconvert_exporter": "python",
   "pygments_lexer": "ipython3",
   "version": "3.12.1"
  }
 },
 "nbformat": 4,
 "nbformat_minor": 5
}
